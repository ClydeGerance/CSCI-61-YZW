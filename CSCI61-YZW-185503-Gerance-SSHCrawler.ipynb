{
 "cells": [
  {
   "cell_type": "markdown",
   "id": "8860226e-5782-4d32-aa72-cb41a0c595fe",
   "metadata": {},
   "source": [
    "# Lab: Python Jupyter Assignment\n",
    "**Name:** Clyde Lester Gerance     \n",
    "**ID Number:** 185503  \n",
    "**Email:** clyde.gerance@student.ateneo.edu"
   ]
  },
  {
   "cell_type": "code",
   "execution_count": null,
   "id": "02b4ccb8-34e9-4376-a9fb-3831c1ec659b",
   "metadata": {},
   "outputs": [
    {
     "name": "stdout",
     "output_type": "stream",
     "text": [
      "Requirement already satisfied: pandas in ./myenv/lib/python3.12/site-packages (2.2.3)\n",
      "Requirement already satisfied: paramiko in ./myenv/lib/python3.12/site-packages (3.5.0)\n",
      "Requirement already satisfied: numpy>=1.26.0 in ./myenv/lib/python3.12/site-packages (from pandas) (2.2.2)\n",
      "Requirement already satisfied: python-dateutil>=2.8.2 in ./myenv/lib/python3.12/site-packages (from pandas) (2.9.0.post0)\n",
      "Requirement already satisfied: pytz>=2020.1 in ./myenv/lib/python3.12/site-packages (from pandas) (2025.1)\n",
      "Requirement already satisfied: tzdata>=2022.7 in ./myenv/lib/python3.12/site-packages (from pandas) (2025.1)\n",
      "Requirement already satisfied: bcrypt>=3.2 in ./myenv/lib/python3.12/site-packages (from paramiko) (4.2.1)\n",
      "Requirement already satisfied: cryptography>=3.3 in ./myenv/lib/python3.12/site-packages (from paramiko) (44.0.0)\n",
      "Requirement already satisfied: pynacl>=1.5 in ./myenv/lib/python3.12/site-packages (from paramiko) (1.5.0)\n",
      "Requirement already satisfied: cffi>=1.12 in ./myenv/lib/python3.12/site-packages (from cryptography>=3.3->paramiko) (1.17.1)\n",
      "Requirement already satisfied: six>=1.5 in ./myenv/lib/python3.12/site-packages (from python-dateutil>=2.8.2->pandas) (1.17.0)\n",
      "Requirement already satisfied: pycparser in ./myenv/lib/python3.12/site-packages (from cffi>=1.12->cryptography>=3.3->paramiko) (2.22)\n"
     ]
    }
   ],
   "source": [
    "# !pip install pandas paramiko"
   ]
  },
  {
   "cell_type": "code",
   "execution_count": null,
   "id": "553e95e8-41dc-4ccb-b5ef-920a23fdf347",
   "metadata": {},
   "outputs": [
    {
     "ename": "",
     "evalue": "",
     "output_type": "error",
     "traceback": [
      "\u001b[1;31mRunning cells with 'Python 3.10.11' requires the ipykernel package.\n",
      "\u001b[1;31mRun the following command to install 'ipykernel' into the Python environment. \n",
      "\u001b[1;31mCommand: '\"c:/Users/Clyde Gerance/AppData/Local/Microsoft/WindowsApps/python3.10.exe\" -m pip install ipykernel -U --user --force-reinstall'"
     ]
    }
   ],
   "source": [
    "import paramiko\n",
    "import pandas as pd\n",
    "\n",
    "def ssh_crawler(hostname, port, username, password):\n",
    "    try:\n",
    "        client = paramiko.SSHClient()\n",
    "        client.set_missing_host_key_policy(paramiko.AutoAddPolicy())\n",
    "        client.connect(hostname, port=port, username=username, password=password)\n",
    "        \n",
    "        command = \"ls -lt --time-style=long-iso /usr/bin | awk '{print $6, $7, $8}'\"\n",
    "        stdin, stdout, stderr = client.exec_command(command)\n",
    "        \n",
    "        files = []\n",
    "        for line in stdout.readlines()[1:]:\n",
    "            parts = line.strip().split()\n",
    "            if len(parts) >= 3:\n",
    "                mod_date = f\"{parts[0]} {parts[1]}\"\n",
    "                filename = parts[2]\n",
    "                files.append((filename, mod_date))\n",
    "        \n",
    "        client.close()\n",
    "\n",
    "        df = pd.DataFrame(files, columns=[\"Filename\", \"Modification Date\"])\n",
    "        \n",
    "        df_sort_name = df.sort_values(by=\"Filename\")\n",
    "        df_sort_date = df.sort_values(by=\"Modification Date\", ascending=False)\n",
    "\n",
    "        print(\"\\nSorted by Filename (A-Z):\")\n",
    "        print(df_sort_name)\n",
    "\n",
    "        print(\"\\nSorted by Modification Date (Newest First):\")\n",
    "        print(df_sort_date)\n",
    "\n",
    "    except Exception as e:\n",
    "        print(\"Error:\", e)\n",
    "\n",
    "ssh_crawler(\n",
    "    hostname=\"192.168.254.116\",\n",
    "    port=22,\n",
    "    username=\"clyde\",\n",
    "    password=\"clyde\"\n",
    ")\n"
   ]
  }
 ],
 "metadata": {
  "kernelspec": {
   "display_name": "Python 3",
   "language": "python",
   "name": "python3"
  },
  "language_info": {
   "codemirror_mode": {
    "name": "ipython",
    "version": 3
   },
   "file_extension": ".py",
   "mimetype": "text/x-python",
   "name": "python",
   "nbconvert_exporter": "python",
   "pygments_lexer": "ipython3",
   "version": "3.10.11"
  }
 },
 "nbformat": 4,
 "nbformat_minor": 5
}
