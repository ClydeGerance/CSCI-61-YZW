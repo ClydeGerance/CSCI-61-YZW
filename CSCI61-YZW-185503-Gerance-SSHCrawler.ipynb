{
 "cells": [
  {
   "cell_type": "markdown",
   "id": "8860226e-5782-4d32-aa72-cb41a0c595fe",
   "metadata": {},
   "source": [
    "# Lab: Python Jupyter Assignment\n",
    "**Name:** Clyde Lester Gerance     \n",
    "**ID Number:** 185503  \n",
    "**Email:** clyde.gerance@student.ateneo.edu"
   ]
  },
  {
   "cell_type": "code",
   "execution_count": 1,
   "id": "02b4ccb8-34e9-4376-a9fb-3831c1ec659b",
   "metadata": {},
   "outputs": [
    {
     "name": "stdout",
     "output_type": "stream",
     "text": [
      "Requirement already satisfied: pandas in ./myenv/lib/python3.12/site-packages (2.2.3)\n",
      "Requirement already satisfied: paramiko in ./myenv/lib/python3.12/site-packages (3.5.0)\n",
      "Requirement already satisfied: numpy>=1.26.0 in ./myenv/lib/python3.12/site-packages (from pandas) (2.2.2)\n",
      "Requirement already satisfied: python-dateutil>=2.8.2 in ./myenv/lib/python3.12/site-packages (from pandas) (2.9.0.post0)\n",
      "Requirement already satisfied: pytz>=2020.1 in ./myenv/lib/python3.12/site-packages (from pandas) (2025.1)\n",
      "Requirement already satisfied: tzdata>=2022.7 in ./myenv/lib/python3.12/site-packages (from pandas) (2025.1)\n",
      "Requirement already satisfied: bcrypt>=3.2 in ./myenv/lib/python3.12/site-packages (from paramiko) (4.2.1)\n",
      "Requirement already satisfied: cryptography>=3.3 in ./myenv/lib/python3.12/site-packages (from paramiko) (44.0.0)\n",
      "Requirement already satisfied: pynacl>=1.5 in ./myenv/lib/python3.12/site-packages (from paramiko) (1.5.0)\n",
      "Requirement already satisfied: cffi>=1.12 in ./myenv/lib/python3.12/site-packages (from cryptography>=3.3->paramiko) (1.17.1)\n",
      "Requirement already satisfied: six>=1.5 in ./myenv/lib/python3.12/site-packages (from python-dateutil>=2.8.2->pandas) (1.17.0)\n",
      "Requirement already satisfied: pycparser in ./myenv/lib/python3.12/site-packages (from cffi>=1.12->cryptography>=3.3->paramiko) (2.22)\n"
     ]
    }
   ],
   "source": [
    "!pip install pandas paramiko"
   ]
  },
  {
   "cell_type": "code",
   "execution_count": 2,
   "id": "553e95e8-41dc-4ccb-b5ef-920a23fdf347",
   "metadata": {},
   "outputs": [
    {
     "name": "stdout",
     "output_type": "stream",
     "text": [
      "\n",
      "Sorted by Filename (A-Z):\n",
      "            Filename Modification Date\n",
      "2876  1password2john  2024-09-18 09:56\n",
      "3813        2to3-2.7  2022-08-01 14:23\n",
      "156         411toppm  2025-01-19 22:08\n",
      "1348              7z  2025-01-03 11:51\n",
      "2877         7z2john  2024-09-18 09:56\n",
      "...              ...               ...\n",
      "1433            zstd  2024-12-30 09:16\n",
      "1434         zstdcat  2024-12-30 09:16\n",
      "1435        zstdgrep  2024-12-30 09:16\n",
      "1436        zstdless  2024-12-30 09:16\n",
      "1437          zstdmt  2024-12-30 09:16\n",
      "\n",
      "[3927 rows x 2 columns]\n",
      "\n",
      "Sorted by Modification Date (Newest First):\n",
      "                    Filename Modification Date\n",
      "0     kali-check-apt-sources  2025-01-30 18:38\n",
      "4                kali-treecd  2025-01-30 18:38\n",
      "5               kali-winexec  2025-01-30 18:38\n",
      "1            kali-deprecated  2025-01-30 18:38\n",
      "3                 kali-setup  2025-01-30 18:38\n",
      "...                      ...               ...\n",
      "3897                   qmake  2019-05-04 00:08\n",
      "3898                     qml  2019-05-04 00:08\n",
      "3899          qml1plugindump  2019-05-04 00:08\n",
      "3925                     lbd  2014-10-08 23:42\n",
      "3926      unix-privesc-check  2008-11-24 04:07\n",
      "\n",
      "[3927 rows x 2 columns]\n"
     ]
    }
   ],
   "source": [
    "import paramiko\n",
    "import pandas as pd\n",
    "\n",
    "def ssh_crawler(hostname, port, username, password):\n",
    "    try:\n",
    "        client = paramiko.SSHClient()\n",
    "        client.set_missing_host_key_policy(paramiko.AutoAddPolicy())\n",
    "        client.connect(hostname, port=port, username=username, password=password)\n",
    "        \n",
    "        command = \"ls -lt --time-style=long-iso /usr/bin | awk '{print $6, $7, $8}'\"\n",
    "        stdin, stdout, stderr = client.exec_command(command)\n",
    "        \n",
    "        files = []\n",
    "        for line in stdout.readlines()[1:]:\n",
    "            parts = line.strip().split()\n",
    "            if len(parts) >= 3:\n",
    "                mod_date = f\"{parts[0]} {parts[1]}\"\n",
    "                filename = parts[2]\n",
    "                files.append((filename, mod_date))\n",
    "        \n",
    "        client.close()\n",
    "\n",
    "        df = pd.DataFrame(files, columns=[\"Filename\", \"Modification Date\"])\n",
    "        \n",
    "        df_sort_name = df.sort_values(by=\"Filename\")\n",
    "        df_sort_date = df.sort_values(by=\"Modification Date\", ascending=False)\n",
    "\n",
    "        print(\"\\nSorted by Filename (A-Z):\")\n",
    "        print(df_sort_name)\n",
    "\n",
    "        print(\"\\nSorted by Modification Date (Newest First):\")\n",
    "        print(df_sort_date)\n",
    "\n",
    "    except Exception as e:\n",
    "        print(\"Error:\", e)\n",
    "\n",
    "ssh_crawler(\n",
    "    hostname=\"192.168.254.116\",\n",
    "    port=22,\n",
    "    username=\"clyde\",\n",
    "    password=\"clyde\"\n",
    ")\n"
   ]
  }
 ],
 "metadata": {
  "kernelspec": {
   "display_name": "labs",
   "language": "python",
   "name": "labs"
  },
  "language_info": {
   "codemirror_mode": {
    "name": "ipython",
    "version": 3
   },
   "file_extension": ".py",
   "mimetype": "text/x-python",
   "name": "python",
   "nbconvert_exporter": "python",
   "pygments_lexer": "ipython3",
   "version": "3.12.8"
  }
 },
 "nbformat": 4,
 "nbformat_minor": 5
}
